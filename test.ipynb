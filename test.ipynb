{
 "metadata": {
  "language_info": {
   "codemirror_mode": {
    "name": "ipython",
    "version": 3
   },
   "file_extension": ".py",
   "mimetype": "text/x-python",
   "name": "python",
   "nbconvert_exporter": "python",
   "pygments_lexer": "ipython3",
   "version": "3.7.5-final"
  },
  "orig_nbformat": 2,
  "kernelspec": {
   "name": "Python 3.7.5 64-bit",
   "display_name": "Python 3.7.5 64-bit",
   "metadata": {
    "interpreter": {
     "hash": "28e29083dba6c505f2c0c3ef6a15213a3325434cd0dcd541212018311d29dc30"
    }
   }
  }
 },
 "nbformat": 4,
 "nbformat_minor": 2,
 "cells": [
  {
   "cell_type": "code",
   "execution_count": 19,
   "metadata": {},
   "outputs": [],
   "source": [
    "import requests\n",
    "import json, ndjson\n",
    "from collections import Counter\n",
    "\n",
    "with open(\"secret.csv\", \"r\") as r:\n",
    "    data = [line.replace(\"\\n\",\"\").split(\",\") for line in r.readlines()]\n",
    "    username = data[0][1]\n",
    "    token = data[1][1]"
   ]
  },
  {
   "cell_type": "code",
   "execution_count": 2,
   "metadata": {},
   "outputs": [
    {
     "output_type": "stream",
     "name": "stdout",
     "text": [
      "Gathering data for sirsnakerb\n"
     ]
    }
   ],
   "source": [
    "url = \"https://lichess.org\"\n",
    "print(f\"Gathering data for {username}\")\n",
    "response = requests.get(\n",
    "  f'https://lichess.org/api/games/user/{username}',\n",
    "  params={\n",
    "    \"perfType\" : \"blitz\",\n",
    "    \"rated\" :  \"true\",\n",
    "    \"opening\" : \"true\",\n",
    "    \"moves\" : \"false\"\n",
    "  },\n",
    "  headers={\n",
    "    'Authorization': f'Bearer {token}', # Need this or you will get a 401: Not Authorized response\n",
    "    \"Accept\": \"application/x-ndjson\"\n",
    "  }\n",
    ")"
   ]
  },
  {
   "cell_type": "code",
   "execution_count": 3,
   "metadata": {},
   "outputs": [],
   "source": [
    "# Parse application/x-ndjson into list of JSON objects\n",
    "games = []\n",
    "ndjson = response.content.decode().split('\\n')\n",
    "\n",
    "for json_obj in ndjson:\n",
    "    if json_obj:\n",
    "        games.append(json.loads(json_obj))"
   ]
  },
  {
   "cell_type": "code",
   "execution_count": 4,
   "metadata": {},
   "outputs": [
    {
     "output_type": "execute_result",
     "data": {
      "text/plain": [
       "3685"
      ]
     },
     "metadata": {},
     "execution_count": 4
    }
   ],
   "source": [
    "len(games)"
   ]
  },
  {
   "cell_type": "code",
   "execution_count": 5,
   "metadata": {},
   "outputs": [
    {
     "output_type": "execute_result",
     "data": {
      "text/plain": [
       "{'id': '8CUOWCNu',\n",
       " 'rated': True,\n",
       " 'variant': 'standard',\n",
       " 'speed': 'blitz',\n",
       " 'perf': 'blitz',\n",
       " 'createdAt': 1603039771257,\n",
       " 'lastMoveAt': 1603040105442,\n",
       " 'status': 'mate',\n",
       " 'players': {'white': {'user': {'name': 'sirsnakerb', 'id': 'sirsnakerb'},\n",
       "   'rating': 1412,\n",
       "   'ratingDiff': 5},\n",
       "  'black': {'user': {'name': 'ITHM', 'id': 'ithm'},\n",
       "   'rating': 1338,\n",
       "   'ratingDiff': -4}},\n",
       " 'winner': 'white',\n",
       " 'opening': {'eco': 'C00',\n",
       "  'name': 'French Defense: La Bourdonnais Variation',\n",
       "  'ply': 3},\n",
       " 'clock': {'initial': 300, 'increment': 0, 'totalTime': 300}}"
      ]
     },
     "metadata": {},
     "execution_count": 5
    }
   ],
   "source": [
    "games[1]"
   ]
  },
  {
   "cell_type": "code",
   "execution_count": 15,
   "metadata": {},
   "outputs": [],
   "source": [
    "# seperate games for black and white games\n",
    "white_games, black_games = [], []\n",
    "for game in games:\n",
    "    if game.get(\"opening\"):\n",
    "        if game.get(\"players\").get(\"white\").get(\"user\").get(\"name\") == username:\n",
    "            white_games.append(game)\n",
    "        else:\n",
    "            black_games.append(game)"
   ]
  },
  {
   "cell_type": "code",
   "execution_count": 31,
   "metadata": {},
   "outputs": [
    {
     "output_type": "stream",
     "name": "stdout",
     "text": [
      "Postions when playing white\nPostions when winning:\nScotch Game                                    | 7.03  %\nAmazon Attack                                  | 6.79  %\nQueen's Pawn Game                              | 6.18  %\nPhilidor Defense                               | 4.12  %\nSicilian Defense: McDonnell Attack             | 3.15  %\nPostions when lost:\nScotch Game                                    | 12.12 %\nAmazon Attack                                  | 7.07  %\nPhilidor Defense                               | 5.05  %\nScandinavian Defense: Mieses-Kotroc Variation  | 4.04  %\nQueen's Pawn Game                              | 4.04  %\nPostions when  playing draw:\nAmazon Attack                                  | 7.49  %\nScotch Game                                    | 5.69  %\nQueen's Pawn Game                              | 4.39  %\nHorwitz Defense                                | 2.79  %\nPhilidor Defense                               | 2.69  %\nPostions when playing black\nPostions when winning:\nPhilidor Defense                               | 10.63 %\nScandinavian Defense                           | 10.0  %\nScandinavian Defense: Mieses-Kotroc Variation  | 4.05  %\nQueen's Pawn Game                              | 3.42  %\nQueen's Pawn Game: Zukertort Variation         | 2.66  %\nPostions when lost:\nPhilidor Defense                               | 10.13 %\nQueen's Pawn Game                              | 5.06  %\nSicilian Defense                               | 3.8   %\nModern Defense                                 | 3.8   %\nQueen's Pawn Game: Chigorin Variation          | 3.8   %\nPostions when  playing draw:\nAmazon Attack                                  | 7.49  %\nScotch Game                                    | 5.69  %\nQueen's Pawn Game                              | 4.39  %\nHorwitz Defense                                | 2.79  %\nPhilidor Defense                               | 2.69  %\n"
     ]
    }
   ],
   "source": [
    "top = 5\n",
    "for colour, col_games in zip([\"white\", \"black\"],[white_games, black_games]):\n",
    "    wins, lost, draws = [], [], []\n",
    "    for game in col_games:\n",
    "        if game.get(\"winner\") == colour:\n",
    "            wins.append(game)\n",
    "        elif game.get(\"winner\") == None:\n",
    "            draws.append(game)\n",
    "        else:\n",
    "            lost.append(game)\n",
    "    print(f\"Postions when playing {colour}\")\n",
    "    \n",
    "    for conc, str_conc in zip([wins, draws, tie],[\"winning\", \"lost\", \" playing draw\"]):\n",
    "        print(f\"Postions when {str_conc}:\")\n",
    "        most_common = Counter([game[\"opening\"][\"name\"] for game in conc]).most_common()\n",
    "        most_common_percentage = [(opening[0], round(opening[1]/len(conc)*100,2)) for opening in most_common]\n",
    "        for i, opn in enumerate(most_common_percentage):\n",
    "            if i == top:\n",
    "                break\n",
    "            print(f\"{opn[0]:<47}| {opn[1]:<5} %\")\n"
   ]
  },
  {
   "cell_type": "code",
   "execution_count": null,
   "metadata": {},
   "outputs": [],
   "source": []
  }
 ]
}