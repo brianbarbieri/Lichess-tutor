{
 "metadata": {
  "language_info": {
   "codemirror_mode": {
    "name": "ipython",
    "version": 3
   },
   "file_extension": ".py",
   "mimetype": "text/x-python",
   "name": "python",
   "nbconvert_exporter": "python",
   "pygments_lexer": "ipython3",
   "version": "3.7.5-final"
  },
  "orig_nbformat": 2,
  "kernelspec": {
   "name": "Python 3.7.5 64-bit",
   "display_name": "Python 3.7.5 64-bit",
   "metadata": {
    "interpreter": {
     "hash": "28e29083dba6c505f2c0c3ef6a15213a3325434cd0dcd541212018311d29dc30"
    }
   }
  }
 },
 "nbformat": 4,
 "nbformat_minor": 2,
 "cells": [
  {
   "cell_type": "code",
   "execution_count": 134,
   "metadata": {},
   "outputs": [],
   "source": [
    "import requests\n",
    "import json, ndjson\n",
    "\n",
    "with open(\"secret.csv\", \"r\") as r:\n",
    "    data = [line.replace(\"\\n\",\"\").split(\",\") for line in r.readlines()]\n",
    "    username = data[0][1]\n",
    "    token = data[1][1]"
   ]
  },
  {
   "cell_type": "code",
   "execution_count": 135,
   "metadata": {},
   "outputs": [
    {
     "output_type": "stream",
     "name": "stdout",
     "text": [
      "Gathering data for sirsnakerb\n"
     ]
    }
   ],
   "source": [
    "url = \"https://lichess.org\"\n",
    "print(f\"Gathering data for {username}\")\n",
    "response = requests.get(\n",
    "  f'https://lichess.org/api/games/user/{username}',\n",
    "  params={\n",
    "    \"perfType\" : \"blitz\",\n",
    "    \"rated\" :  \"true\",\n",
    "    \"opening\" : \"true\",\n",
    "    \"moves\" : \"false\"\n",
    "  },\n",
    "  headers={\n",
    "    'Authorization': f'Bearer {token}', # Need this or you will get a 401: Not Authorized response\n",
    "    \"Accept\": \"application/x-ndjson\"\n",
    "  }\n",
    ")"
   ]
  },
  {
   "cell_type": "code",
   "execution_count": 136,
   "metadata": {},
   "outputs": [],
   "source": [
    "# Parse application/x-ndjson into list of JSON objects\n",
    "resp_json = []\n",
    "ndjson = response.content.decode().split('\\n')\n",
    "\n",
    "for json_obj in ndjson:\n",
    "    if json_obj:\n",
    "        resp_json.append(json.loads(json_obj))"
   ]
  },
  {
   "cell_type": "code",
   "execution_count": 137,
   "metadata": {},
   "outputs": [
    {
     "output_type": "execute_result",
     "data": {
      "text/plain": [
       "3685"
      ]
     },
     "metadata": {},
     "execution_count": 137
    }
   ],
   "source": [
    "len(resp_json)"
   ]
  },
  {
   "cell_type": "code",
   "execution_count": 125,
   "metadata": {},
   "outputs": [
    {
     "output_type": "execute_result",
     "data": {
      "text/plain": [
       "{'id': 'E396seMc',\n",
       " 'rated': True,\n",
       " 'variant': 'standard',\n",
       " 'speed': 'blitz',\n",
       " 'perf': 'blitz',\n",
       " 'createdAt': 1601991900854,\n",
       " 'lastMoveAt': 1601991928313,\n",
       " 'status': 'mate',\n",
       " 'players': {'white': {'user': {'name': 'aang_7', 'id': 'aang_7'},\n",
       "   'rating': 986,\n",
       "   'ratingDiff': 9},\n",
       "  'black': {'user': {'name': 'arvt', 'id': 'arvt'},\n",
       "   'rating': 1045,\n",
       "   'ratingDiff': -6}},\n",
       " 'winner': 'white',\n",
       " 'opening': {'eco': 'B00', 'name': 'Nimzowitsch Defense', 'ply': 2},\n",
       " 'clock': {'initial': 180, 'increment': 0, 'totalTime': 180}}"
      ]
     },
     "metadata": {},
     "execution_count": 125
    }
   ],
   "source": [
    "resp_json[1]"
   ]
  },
  {
   "cell_type": "code",
   "execution_count": 122,
   "metadata": {},
   "outputs": [],
   "source": [
    "from collections import Counter\n",
    "openings = [game[\"opening\"][\"name\"] for game in resp_json if game.get(\"opening\", 0) != 0]"
   ]
  },
  {
   "cell_type": "code",
   "execution_count": 144,
   "metadata": {},
   "outputs": [],
   "source": [
    "most_common = Counter(openings).most_common()\n",
    "most_common_percentage = [(opening[0], round(opening[1]/len(openings)*100,2)) for opening in most_common]"
   ]
  },
  {
   "cell_type": "code",
   "execution_count": 145,
   "metadata": {},
   "outputs": [
    {
     "output_type": "execute_result",
     "data": {
      "text/plain": [
       "[(\"Queen's Pawn Game: Mason Variation\", 20.45),\n",
       " (\"King's Pawn Game: Busch-Gass Gambit\", 6.14),\n",
       " ('Horwitz Defense', 4.77),\n",
       " ('Englund Gambit', 3.64),\n",
       " (\"King's Pawn Game: Wayward Queen Attack\", 2.73),\n",
       " ('Four Knights Game: Italian Variation', 2.73),\n",
       " ('Mikenas Defense', 2.5),\n",
       " ('Indian Game', 2.5),\n",
       " (\"Queen's Pawn Game\", 2.5),\n",
       " (\"Queen's Pawn\", 2.27),\n",
       " (\"King's Pawn Game: Leonardis Variation\", 2.05),\n",
       " (\"Van't Kruijs Opening\", 1.59),\n",
       " ('Caro-Kann Defense', 1.59),\n",
       " (\"King's Pawn Game: Damiano Defense\", 1.36),\n",
       " (\"Queen's Pawn Game: Chigorin Variation\", 1.36),\n",
       " ('Italian Game', 1.14),\n",
       " ('Nimzowitsch Defense', 1.14),\n",
       " ('Modern Defense', 1.14),\n",
       " (\"Bishop's Opening\", 1.14),\n",
       " (\"Queen's Pawn Game: Veresov Attack, Alburt Defense\", 1.14),\n",
       " ('Philidor Defense', 1.14),\n",
       " (\"King's Pawn Game\", 1.14),\n",
       " ('Four Knights Game', 0.91),\n",
       " (\"Queen's Gambit Declined: Baltic Defense\", 0.91),\n",
       " (\"Bishop's Opening: Boi Variation\", 0.91),\n",
       " ('Englund Gambit Declined: Reversed French', 0.68),\n",
       " ('Englund Gambit Declined: Reversed Alekhine', 0.68),\n",
       " ('Scotch Game', 0.68),\n",
       " ('Center Game', 0.68),\n",
       " ('English Defense', 0.68),\n",
       " (\"Queen's Pawn Game: Zukertort Variation\", 0.68),\n",
       " ('Portuguese Opening', 0.68),\n",
       " (\"Petrov's Defense\", 0.68),\n",
       " (\"King's Pawn Game: Napoleon Attack\", 0.68),\n",
       " ('Barnes Defense', 0.68),\n",
       " ('French Defense: Knight Variation', 0.68),\n",
       " ('Englund Gambit Complex: Hartlaub-Charlick Gambit', 0.68),\n",
       " ('Alekhine Defense', 0.45),\n",
       " ('Nimzowitsch Defense: Mikenas Variation', 0.45),\n",
       " ('Three Knights Opening', 0.45),\n",
       " ('Zukertort Opening: Lemberger Gambit', 0.45),\n",
       " ('Bird Opening', 0.45),\n",
       " ('Dutch Defense', 0.45),\n",
       " ('Ruy Lopez: Cozio Defense', 0.45),\n",
       " ('Italian Game: Two Knights Defense, Open Variation', 0.45),\n",
       " ('Nimzowitsch Defense: Williams Variation', 0.45),\n",
       " ('Vienna Game: Anderssen Defense', 0.45),\n",
       " (\"King's Pawn Game: King's Head Opening\", 0.45),\n",
       " ('Old Benoni Defense', 0.45),\n",
       " (\"King's Knight Opening\", 0.45),\n",
       " ('Scandinavian Defense: Mieses-Kotroc Variation', 0.45),\n",
       " ('Alekhine Defense: Maróczy Variation', 0.45),\n",
       " ('French Defense', 0.45),\n",
       " (\"Queen's Pawn Game: London System\", 0.45),\n",
       " ('Russian Game: Urusov Gambit', 0.45),\n",
       " ('Scandinavian Defense', 0.45),\n",
       " (\"King's Pawn Opening\", 0.45),\n",
       " ('Nimzowitsch Defense: Kennedy Variation, Linksspringer Variation', 0.45),\n",
       " ('Pirc Defense', 0.45),\n",
       " ('Vienna Game: Max Lange Defense', 0.23),\n",
       " (\"King's Gambit Declined: Queen's Knight Defense\", 0.23),\n",
       " ('Vienna Game: Fyfe Gambit', 0.23),\n",
       " ('Nimzowitsch Defense, Declined Variation', 0.23),\n",
       " ('Van Geet Opening', 0.23),\n",
       " (\"Queen's Gambit Declined\", 0.23),\n",
       " ('Anderssen Opening', 0.23),\n",
       " (\"King's Gambit Declined: Classical Variation\", 0.23),\n",
       " ('Englund Gambit Complex: Mosquito Gambit', 0.23),\n",
       " ('Ware Opening', 0.23),\n",
       " (\"King's Pawn Game: Maróczy Defense\", 0.23),\n",
       " (\"Queen's Pawn Game: Colle System\", 0.23),\n",
       " ('Polish Opening: Baltic Defense', 0.23),\n",
       " ('Nimzo-Larsen Attack: Classical Variation', 0.23),\n",
       " (\"Bishop's Opening: Philidor Counterattack\", 0.23),\n",
       " ('French Defense: Perseus Gambit', 0.23),\n",
       " ('Réti Opening', 0.23),\n",
       " (\"Bishop's Opening: Khan Gambit\", 0.23),\n",
       " ('Mieses Opening: Reversed Rat', 0.23),\n",
       " ('Borg Defense: Borg Gambit', 0.23),\n",
       " ('Zukertort Opening: Pirc Invitation', 0.23),\n",
       " (\"King's Gambit: Panteldakis Countergambit\", 0.23),\n",
       " ('Vienna Game', 0.23),\n",
       " ('Zukertort Opening: Old Indian Attack', 0.23),\n",
       " ('Caro-Kann Defense: Breyer Variation', 0.23),\n",
       " ('Blackmar Gambit', 0.23),\n",
       " ('French Defense: Two Knights Variation', 0.23),\n",
       " ('Caro-Kann Defense: Two Knights Attack', 0.23),\n",
       " ('Bird Opening: Dutch Variation, Dudweiler Gambit', 0.23),\n",
       " ('Hungarian Opening', 0.23),\n",
       " ('Caro-Kann Defense: Maróczy Variation', 0.23),\n",
       " (\"English Opening: King's English Variation, Reversed Sicilian\", 0.23),\n",
       " (\"Queen's Pawn Game: Steinitz Countergambit\", 0.23),\n",
       " ('Russian Game: Stafford Gambit', 0.23),\n",
       " (\"King's Pawn Game: Wayward Queen Attack, Kiddie Countergambit\", 0.23),\n",
       " (\"Bishop's Opening: Berlin Defense\", 0.23),\n",
       " ('Russian Game: Three Knights Game', 0.23),\n",
       " ('Russian Game: Karklins-Martinovsky Variation', 0.23),\n",
       " ('Borg Defense', 0.23),\n",
       " ('Englund Gambit Complex: Soller Gambit Deferred', 0.23),\n",
       " ('Ruy Lopez: Morphy Defense, Tarrasch Variation', 0.23),\n",
       " (\"King's Pawn Game: Macleod Attack\", 0.23),\n",
       " ('Latvian Gambit', 0.23),\n",
       " ('Scandinavian Defense: Gubinsky-Melts Defense', 0.23),\n",
       " ('Ruy Lopez: Exchange Variation, Lutikov Variation', 0.23),\n",
       " ('Italian Game: Two Knights Defense', 0.23),\n",
       " ('Scandinavian Defense: Modern Variation', 0.23),\n",
       " ('Four Knights Game: Scotch Variation', 0.23),\n",
       " ('Zukertort Opening: Ross Gambit', 0.23),\n",
       " ('English Opening: Anglo-Lithuanian Variation', 0.23),\n",
       " ('Four Knights Game: Spanish Variation', 0.23),\n",
       " ('Nimzowitsch Defense: Scandinavian Variation, Bogoljubov Variation', 0.23),\n",
       " ('Nimzowitsch Defense: Scandinavian Variation, Bogoljubov Variation, Vehre Variation',\n",
       "  0.23),\n",
       " ('French Defense: Franco-Hiva Gambit', 0.23),\n",
       " ('Sicilian Defense: French Variation', 0.23),\n",
       " ('Sicilian Defense: Amazon Attack', 0.23),\n",
       " ('Caro-Kann Defense: Hillbilly Attack', 0.23)]"
      ]
     },
     "metadata": {},
     "execution_count": 145
    }
   ],
   "source": [
    "most_common_percentage"
   ]
  },
  {
   "cell_type": "code",
   "execution_count": null,
   "metadata": {},
   "outputs": [],
   "source": []
  }
 ]
}