{
 "metadata": {
  "language_info": {
   "codemirror_mode": {
    "name": "ipython",
    "version": 3
   },
   "file_extension": ".py",
   "mimetype": "text/x-python",
   "name": "python",
   "nbconvert_exporter": "python",
   "pygments_lexer": "ipython3",
   "version": "3.7.5-final"
  },
  "orig_nbformat": 2,
  "kernelspec": {
   "name": "Python 3.7.5 64-bit",
   "display_name": "Python 3.7.5 64-bit",
   "metadata": {
    "interpreter": {
     "hash": "28e29083dba6c505f2c0c3ef6a15213a3325434cd0dcd541212018311d29dc30"
    }
   }
  }
 },
 "nbformat": 4,
 "nbformat_minor": 2,
 "cells": [
  {
   "cell_type": "code",
   "execution_count": 5,
   "metadata": {},
   "outputs": [],
   "source": [
    "import requests\n",
    "with open(\"secret.csv\", \"r\") as r:\n",
    "    data = [line.replace(\"\\n\",\"\").split(\",\") for line in r.readlines()]\n",
    "    username = data[0][1]\n",
    "    token = data[1][1]"
   ]
  },
  {
   "cell_type": "code",
   "execution_count": 7,
   "metadata": {},
   "outputs": [
    {
     "output_type": "execute_result",
     "data": {
      "text/plain": [
       "'YmjqaQBwC9nvdt0C'"
      ]
     },
     "metadata": {},
     "execution_count": 7
    }
   ],
   "source": [
    "token"
   ]
  },
  {
   "cell_type": "code",
   "execution_count": 8,
   "metadata": {},
   "outputs": [],
   "source": [
    "url = \"https://lichess.org\"\n",
    "resp = requests.get(\n",
    "  f'https://lichess.org/api/games/user/{username}',\n",
    "  params={\n",
    "    'rated': False,\n",
    "    \"perfType\" : \"blitz\",\n",
    "    \"moves\" : False,\n",
    "    \"opening\" : True\n",
    "  },\n",
    "  headers={\n",
    "    'Authorization': f'Bearer {token}' # Need this or you will get a 401: Not Authorized response\n",
    "  }\n",
    ")"
   ]
  },
  {
   "cell_type": "code",
   "execution_count": null,
   "metadata": {},
   "outputs": [],
   "source": []
  }
 ]
}